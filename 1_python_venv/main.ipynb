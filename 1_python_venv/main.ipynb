{
 "cells": [
  {
   "cell_type": "code",
   "execution_count": 1,
   "metadata": {},
   "outputs": [],
   "source": [
    "# Linia 1: Definicja listy\n",
    "liczby = [1, 2, 3, 4, 5]"
   ]
  },
  {
   "cell_type": "code",
   "execution_count": 2,
   "metadata": {},
   "outputs": [],
   "source": [
    "# Linia 2: Inicjalizacja sumy\n",
    "suma = 0"
   ]
  },
  {
   "cell_type": "code",
   "execution_count": 3,
   "metadata": {},
   "outputs": [
    {
     "name": "stdout",
     "output_type": "stream",
     "text": [
      "Aktualna liczba: 1\n",
      "Aktualna suma: 1\n",
      "Aktualna liczba: 2\n",
      "Aktualna suma: 3\n",
      "Aktualna liczba: 3\n",
      "Aktualna suma: 6\n",
      "Aktualna liczba: 4\n",
      "Aktualna suma: 10\n",
      "Aktualna liczba: 5\n",
      "Aktualna suma: 15\n"
     ]
    }
   ],
   "source": [
    "# Linia 3: Pętla for\n",
    "for liczba in liczby:\n",
    "\n",
    "# Linia 4: Wyświetlenie aktualnej liczby\n",
    "    print(\"Aktualna liczba:\", liczba)\n",
    "\n",
    "# Linia 5: Dodawanie do sumy\n",
    "    suma = suma + liczba\n",
    "\n",
    "# Linia 6: Wyświetlenie aktualnej sumy\n",
    "    print(\"Aktualna suma:\", suma)\n",
    "\n",
    "# Linia 7: Koniec pętli"
   ]
  },
  {
   "cell_type": "code",
   "execution_count": 4,
   "metadata": {},
   "outputs": [
    {
     "name": "stdout",
     "output_type": "stream",
     "text": [
      "Ostateczna suma: 15\n"
     ]
    }
   ],
   "source": [
    "# Linia 8: Wyświetlenie ostatecznej sumy\n",
    "print(\"Ostateczna suma:\", suma)"
   ]
  },
  {
   "cell_type": "code",
   "execution_count": 5,
   "metadata": {},
   "outputs": [
    {
     "name": "stdout",
     "output_type": "stream",
     "text": [
      "Brawo, policzyliśmy sumę!\n"
     ]
    }
   ],
   "source": [
    "# Linia 9: Gratulacje\n",
    "print(\"Brawo, policzyliśmy sumę!\")\n",
    "\n",
    "# Linia 10: Koniec programu"
   ]
  }
 ],
 "metadata": {
  "kernelspec": {
   "display_name": "venv",
   "language": "python",
   "name": "python3"
  },
  "language_info": {
   "codemirror_mode": {
    "name": "ipython",
    "version": 3
   },
   "file_extension": ".py",
   "mimetype": "text/x-python",
   "name": "python",
   "nbconvert_exporter": "python",
   "pygments_lexer": "ipython3",
   "version": "3.13.2"
  }
 },
 "nbformat": 4,
 "nbformat_minor": 2
}
